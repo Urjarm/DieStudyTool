{
 "cells": [
  {
   "cell_type": "markdown",
   "metadata": {},
   "source": [
    "# Overview\n",
    "The following notebook is divided into the following parts:\n",
    "- Preparation: Filepaths can be given for the inputs and outputs. Settings can be chosen for the following steps.\n",
    "- Preprocessing: Adapt the images to the later steps through filters\n",
    "- Distance computation: Normally done by feature detection, followed by feature matching, followed by distance score computation.\n",
    "- Clustering: Compute a clustering from the beforehand computed distances."
   ]
  },
  {
   "cell_type": "markdown",
   "metadata": {},
   "source": [
    "# Preparation"
   ]
  },
  {
   "cell_type": "code",
   "execution_count": 1,
   "metadata": {},
   "outputs": [],
   "source": [
    "# Import\n",
    "import sys\n",
    "import os\n",
    "\n",
    "module_path = os.path.abspath(os.path.join('..', '..'))\n",
    "if module_path not in sys.path:\n",
    "    sys.path.append(module_path)\n",
    "\n",
    "# Preprocessing\n",
    "from joblib import Parallel, delayed\n",
    "import utils\n",
    "from utils import grayscale_directory, clahe_directory, apply_denoise_tv_chambolle_directory, circle_crop_directory, create_comparison_file, analyseClustering\n",
    "\n",
    "# Distance computing\n",
    "from kornia_matcher import extract_kornia_matches_in_directory\n",
    "import pandas as pd\n",
    "\n",
    "# Clustering\n",
    "from sklearn.cluster import AgglomerativeClustering"
   ]
  },
  {
   "cell_type": "code",
   "execution_count": 2,
   "metadata": {},
   "outputs": [],
   "source": [
    "# Variables\n",
    "import variables\n",
    "\n",
    "## Preprocessing\n",
    "exp1 = os.path.join(variables.results_directory, \"01_grayscale\") # variables.results_directory+\"01_grayscale\\\\\"\n",
    "exp2 = os.path.join(variables.results_directory, \"02_histogram_equalization\")\n",
    "exp3 = os.path.join(variables.results_directory, \"03_denoise\")\n",
    "exp4 = os.path.join(variables.results_directory, \"04_histogram_equalization\")\n",
    "exp5 = os.path.join(variables.results_directory, \"05_circle_crop\")\n",
    "folders = [exp1, exp2, exp3, exp4, exp5]\n",
    "\n",
    "preprocessed_images_path = exp5\n",
    "images_folder_path = variables.images_directory\n",
    "\n",
    "## Distance computing\n",
    "matching_file_path = variables.results_directory + variables.matching_file_name\n",
    "clustering_file_path = variables.results_directory + variables.clustering_file_name\n",
    "graph_file_path = variables.results_directory + variables.graph_file_name\n",
    "\n",
    "## Clustering\n",
    "# linkage option: \"complete\", \"average\"\n",
    "clusterer = AgglomerativeClustering(n_clusters=variables.number_of_clusters, linkage='complete', metric='precomputed')  "
   ]
  },
  {
   "cell_type": "markdown",
   "metadata": {},
   "source": [
    "# Preprocessing\n",
    "See the Preprocessing notebook for more in depth information"
   ]
  },
  {
   "cell_type": "code",
   "execution_count": 3,
   "metadata": {},
   "outputs": [],
   "source": [
    "if not os.path.exists(variables.results_directory):\n",
    "    os.mkdir(variables.results_directory)\n",
    "for folder in folders:\n",
    "    if not os.path.exists(folder):\n",
    "        os.mkdir(folder)"
   ]
  },
  {
   "cell_type": "code",
   "execution_count": 4,
   "metadata": {},
   "outputs": [],
   "source": [
    "grayscale_directory(variables.images_directory, exp1)"
   ]
  },
  {
   "cell_type": "code",
   "execution_count": 5,
   "metadata": {},
   "outputs": [],
   "source": [
    "clahe_directory(exp1, exp2)"
   ]
  },
  {
   "cell_type": "code",
   "execution_count": 6,
   "metadata": {},
   "outputs": [],
   "source": [
    "apply_denoise_tv_chambolle_directory(exp2, exp3, weight=0.5)"
   ]
  },
  {
   "cell_type": "code",
   "execution_count": 7,
   "metadata": {},
   "outputs": [],
   "source": [
    "clahe_directory(exp3, exp4)"
   ]
  },
  {
   "cell_type": "code",
   "execution_count": 8,
   "metadata": {},
   "outputs": [],
   "source": [
    "circle_crop_directory(exp4, exp5)"
   ]
  },
  {
   "cell_type": "markdown",
   "metadata": {},
   "source": [
    "# Distance computation"
   ]
  },
  {
   "cell_type": "markdown",
   "metadata": {},
   "source": [
    "## Feature Detection and Description"
   ]
  },
  {
   "cell_type": "code",
   "execution_count": null,
   "metadata": {},
   "outputs": [
    {
     "name": "stdout",
     "output_type": "stream",
     "text": [
      "cuda:0\n",
      "Matching Handler started with device cuda:0.\n",
      "Matching Handler now using method 4: matcher smnn.\n",
      "1 / 1787\n",
      "2 / 1787\n",
      "3 / 1787\n",
      "4 / 1787\n",
      "5 / 1787\n",
      "6 / 1787\n",
      "7 / 1787\n",
      "8 / 1787\n",
      "9 / 1787\n",
      "10 / 1787\n",
      "11 / 1787\n",
      "12 / 1787\n",
      "13 / 1787\n",
      "14 / 1787\n",
      "15 / 1787\n",
      "16 / 1787\n",
      "17 / 1787\n",
      "18 / 1787\n",
      "19 / 1787\n",
      "20 / 1787\n",
      "21 / 1787\n",
      "22 / 1787\n",
      "23 / 1787\n",
      "24 / 1787\n",
      "25 / 1787\n",
      "26 / 1787\n",
      "27 / 1787\n",
      "28 / 1787\n",
      "29 / 1787\n",
      "30 / 1787\n",
      "31 / 1787\n",
      "32 / 1787\n",
      "33 / 1787\n",
      "34 / 1787\n",
      "35 / 1787\n",
      "36 / 1787\n",
      "37 / 1787\n",
      "38 / 1787\n",
      "39 / 1787\n",
      "40 / 1787\n",
      "41 / 1787\n",
      "42 / 1787\n",
      "43 / 1787\n",
      "44 / 1787\n",
      "45 / 1787\n",
      "46 / 1787\n",
      "47 / 1787\n",
      "48 / 1787\n",
      "49 / 1787\n",
      "50 / 1787\n",
      "51 / 1787\n",
      "52 / 1787\n",
      "53 / 1787\n",
      "54 / 1787\n",
      "55 / 1787\n",
      "56 / 1787\n",
      "57 / 1787\n",
      "58 / 1787\n",
      "59 / 1787\n",
      "60 / 1787\n",
      "61 / 1787\n",
      "62 / 1787\n",
      "63 / 1787\n",
      "64 / 1787\n",
      "65 / 1787\n",
      "66 / 1787\n",
      "67 / 1787\n",
      "68 / 1787\n",
      "69 / 1787\n",
      "70 / 1787\n",
      "71 / 1787\n",
      "72 / 1787\n",
      "73 / 1787\n",
      "74 / 1787\n",
      "75 / 1787\n",
      "76 / 1787\n",
      "77 / 1787\n",
      "78 / 1787\n",
      "79 / 1787\n",
      "80 / 1787\n",
      "81 / 1787\n",
      "82 / 1787\n",
      "83 / 1787\n"
     ]
    }
   ],
   "source": [
    "distances = extract_kornia_matches_in_directory(preprocessed_images_path, method=variables.matching_computation_method, print_log=True)\n",
    "distances.to_csv(matching_file_path)"
   ]
  },
  {
   "cell_type": "code",
   "execution_count": null,
   "metadata": {},
   "outputs": [],
   "source": [
    "# Save distances to file\n",
    "df2 = pd.read_csv(matching_file_path)\n",
    "paths = utils.get_paths(images_folder_path)\n",
    "df2 = utils.add_path_to_df(df2, paths)\n",
    "df2.to_csv(matching_file_path)"
   ]
  },
  {
   "cell_type": "markdown",
   "metadata": {},
   "source": [
    "# Clustering"
   ]
  },
  {
   "cell_type": "code",
   "execution_count": null,
   "metadata": {},
   "outputs": [],
   "source": [
    "clustering = utils.compute_clustering(variables.matching_file_path, clusterer = clusterer, distance_function=variables.distance_computation_method)\n",
    "clustering.to_csv(clustering_file_path)\n",
    "paths = utils.get_paths(images_folder_path)\n",
    "clustering2 = utils.add_path_to_df(clustering, paths, name_column='object_number', set_index=False)\n",
    "clustering2.to_csv(variables.clustering_file_path)"
   ]
  },
  {
   "cell_type": "markdown",
   "metadata": {},
   "source": [
    "# Evaluation"
   ]
  },
  {
   "cell_type": "code",
   "execution_count": null,
   "metadata": {},
   "outputs": [],
   "source": [
    "if variables.ground_truth_file != \"\":\n",
    "    # Comparison file for graph visualization (applying clustering)\n",
    "\n",
    "    name = os.path.splitext(os.path.basename(clustering_file_path))[0]\n",
    "    \n",
    "    create_comparison_file(\n",
    "        [matching_file_path], \n",
    "        [name], \n",
    "        1, \n",
    "        variables.number_of_clusters, \n",
    "        target_file=graph_file_path, \n",
    "        number_of_images=-1,\n",
    "        true_values_file = variables.ground_truth_file,\n",
    "        distance_function=[variables.distance_computation_method], \n",
    "        clusterers = [clusterer])\n",
    "    \n",
    "    plot_dataframe = pd.concat([pd.read_csv(graph_file_path).iloc[:, [1,2,3]]]) # , pd.read_csv(\"max_possible_values.csv\").iloc[:50, 1:3]\n",
    "    plot = plot_dataframe.plot(title=\"Distancefunction comparison\")\n",
    "    print(plot)"
   ]
  },
  {
   "cell_type": "code",
   "execution_count": null,
   "metadata": {},
   "outputs": [],
   "source": [
    "if variables.ground_truth_file != \"\":\n",
    "    analyseClustering(matching_file_path, \n",
    "                  variables.ground_truth_file, \n",
    "                  distance_function=variables.distance_computation_method,\n",
    "                  side=True,\n",
    "                  clusterer=clusterer)"
   ]
  }
 ],
 "metadata": {
  "kernelspec": {
   "display_name": ".venv",
   "language": "python",
   "name": "python3"
  },
  "language_info": {
   "codemirror_mode": {
    "name": "ipython",
    "version": 3
   },
   "file_extension": ".py",
   "mimetype": "text/x-python",
   "name": "python",
   "nbconvert_exporter": "python",
   "pygments_lexer": "ipython3",
   "version": "3.11.6"
  }
 },
 "nbformat": 4,
 "nbformat_minor": 4
}
